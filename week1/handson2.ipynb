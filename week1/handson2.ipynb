{
 "cells": [
  {
   "cell_type": "code",
   "execution_count": 1,
   "id": "87d9eba2",
   "metadata": {},
   "outputs": [
    {
     "name": "stdout",
     "output_type": "stream",
     "text": [
      "variance= 674.9166666666666 sd= 25.979158313283875\n"
     ]
    }
   ],
   "source": [
    "#1- Given the list of all 2-digit numbers\n",
    "#calculate the mean and standard deviation of all numbers in this list.\n",
    "import math\n",
    "\n",
    "list__ = [int(i) for i in range(10, 100)]\n",
    "avg = sum(list__)/len(list__)\n",
    "var = 0\n",
    "for i in range(len(list__)):\n",
    "    var += math.pow(list__[i]-avg, 2)\n",
    "var = var/len(list__)\n",
    "sd = math.pow(var, 0.5)\n",
    "\n",
    "print(\"variance=\", var , \"sd=\", sd)"
   ]
  },
  {
   "cell_type": "code",
   "execution_count": 5,
   "id": "34cc1708",
   "metadata": {},
   "outputs": [
    {
     "name": "stdout",
     "output_type": "stream",
     "text": [
      "[1, 2, 3, 4]\n",
      "[1, 2, 4, 3]\n",
      "[1, 3, 2, 4]\n",
      "[1, 3, 4, 2]\n",
      "[1, 4, 2, 3]\n",
      "[1, 4, 3, 2]\n",
      "[2, 1, 3, 4]\n",
      "[2, 1, 4, 3]\n",
      "[2, 3, 1, 4]\n",
      "[2, 3, 4, 1]\n",
      "[2, 4, 1, 3]\n",
      "[2, 4, 3, 1]\n",
      "[3, 1, 2, 4]\n",
      "[3, 1, 4, 2]\n",
      "[3, 2, 1, 4]\n",
      "[3, 2, 4, 1]\n",
      "[3, 4, 1, 2]\n",
      "[3, 4, 2, 1]\n",
      "[4, 1, 2, 3]\n",
      "[4, 1, 3, 2]\n",
      "[4, 2, 1, 3]\n",
      "[4, 2, 3, 1]\n",
      "[4, 3, 1, 2]\n",
      "[4, 3, 2, 1]\n"
     ]
    }
   ],
   "source": [
    "#2- write a code to print all possible permutations of length n.\n",
    "#For example, given n=3, we have 6 permutations: [1,2,3],[1,3,2],[2,1,3],[2,3,1],[3,1,2],[3,2,1]\n",
    "\n",
    "def permutations(head, tail=[]):\n",
    "    if len(head) == 0:\n",
    "        print(tail)\n",
    "    else:\n",
    "        for i in range(len(head)):\n",
    "            tmp = list(tail)\n",
    "            tmp.append(head[i])\n",
    "            permutations(head[:i] + head[i+1:], tmp)\n",
    "permutations([1,2,3,4])"
   ]
  },
  {
   "cell_type": "code",
   "execution_count": 4,
   "id": "8b842799",
   "metadata": {},
   "outputs": [
    {
     "data": {
      "text/plain": [
       "{'Python': 8,\n",
       " 'is': 4,\n",
       " 'a': 4,\n",
       " 'high-level': 1,\n",
       " 'interpreted': 1,\n",
       " 'general-purpose': 1,\n",
       " 'programming': 5,\n",
       " 'language': 3,\n",
       " 'Its': 1,\n",
       " 'design': 1,\n",
       " 'philosophy': 1,\n",
       " 'emphasizes': 1,\n",
       " 'code': 1,\n",
       " 'readability': 1,\n",
       " 'with': 3,\n",
       " 'the': 4,\n",
       " 'use': 1,\n",
       " 'of': 2,\n",
       " 'significant': 1,\n",
       " 'indentation': 1,\n",
       " 'dynamically-typed': 1,\n",
       " 'and': 5,\n",
       " 'garbage-collected': 1,\n",
       " 'It': 2,\n",
       " 'supports': 1,\n",
       " 'multiple': 1,\n",
       " 'paradigms': 1,\n",
       " 'including': 1,\n",
       " 'structured': 1,\n",
       " '(particularly': 1,\n",
       " 'procedural)': 1,\n",
       " 'object-oriented': 1,\n",
       " 'functional': 1,\n",
       " 'often': 1,\n",
       " 'described': 1,\n",
       " 'as': 5,\n",
       " '\"batteries': 1,\n",
       " 'included\"': 1,\n",
       " 'due': 1,\n",
       " 'to': 2,\n",
       " 'its': 1,\n",
       " 'comprehensive': 1,\n",
       " 'standard': 1,\n",
       " 'library': 1,\n",
       " 'Guido': 1,\n",
       " 'van': 1,\n",
       " 'Rossum': 1,\n",
       " 'began': 1,\n",
       " 'working': 1,\n",
       " 'on': 1,\n",
       " 'in': 5,\n",
       " 'late': 1,\n",
       " '1980s': 1,\n",
       " 'successor': 1,\n",
       " 'ABC': 1,\n",
       " 'first': 1,\n",
       " 'released': 3,\n",
       " 'it': 1,\n",
       " '1991': 1,\n",
       " '090[34]': 1,\n",
       " '20': 1,\n",
       " 'was': 3,\n",
       " '2000': 1,\n",
       " 'introduced': 1,\n",
       " 'new': 1,\n",
       " 'features': 1,\n",
       " 'such': 1,\n",
       " 'list': 1,\n",
       " 'comprehensions': 1,\n",
       " 'cycle-detecting': 1,\n",
       " 'garbage': 1,\n",
       " 'collection': 1,\n",
       " 'reference': 1,\n",
       " 'counting': 1,\n",
       " 'Unicode': 1,\n",
       " 'support': 1,\n",
       " '30': 1,\n",
       " '2008': 1,\n",
       " 'major': 1,\n",
       " 'revision': 1,\n",
       " 'that': 1,\n",
       " 'not': 1,\n",
       " 'completely': 1,\n",
       " 'backward-compatible': 1,\n",
       " 'earlier': 1,\n",
       " 'versions': 1,\n",
       " '2': 1,\n",
       " 'discontinued': 1,\n",
       " 'version': 1,\n",
       " '2718': 1,\n",
       " '2020': 1,\n",
       " 'consistently': 1,\n",
       " 'ranks': 1,\n",
       " 'one': 1,\n",
       " 'most': 1,\n",
       " 'popular': 1,\n",
       " 'languages': 1}"
      ]
     },
     "execution_count": 4,
     "metadata": {},
     "output_type": "execute_result"
    }
   ],
   "source": [
    "# 3- given a long text, count the number of occurences of all words in the text in a python dictionary.\n",
    "s='Python is a high-level, interpreted, general-purpose programming language. Its design philosophy emphasizes code readability with the use of significant indentation. Python is dynamically-typed and garbage-collected. It supports multiple programming paradigms, including structured (particularly procedural), object-oriented and functional programming. It is often described as a \"batteries included\" language due to its comprehensive standard library. Guido van Rossum began working on Python in the late 1980s as a successor to the ABC programming language and first released it in 1991 as Python 0.9.0.[34] Python 2.0 was released in 2000 and introduced new features such as list comprehensions, cycle-detecting garbage collection, reference counting, and Unicode support. Python 3.0, released in 2008, was a major revision that is not completely backward-compatible with earlier versions. Python 2 was discontinued with version 2.7.18 in 2020. Python consistently ranks as one of the most popular programming languages.'\n",
    "\n",
    "s_dict = {}\n",
    "s_list = s.replace(\",\", \"\").replace(\".\",\"\").split(\" \")\n",
    "for i in range(len(s_list)):\n",
    "    c = 0\n",
    "    for j in range(len(s_list)):\n",
    "        if s_list[i] ==  s_list[j]:\n",
    "            c = c+1\n",
    "    s_dict[s_list[i]] = c\n",
    "s_dict"
   ]
  },
  {
   "cell_type": "code",
   "execution_count": 2,
   "id": "41b1d7f4",
   "metadata": {},
   "outputs": [
    {
     "name": "stdout",
     "output_type": "stream",
     "text": [
      "{0: 2, 1: 8, 2: 4, 3: 9, 4: 1, 5: 6, 6: 7, 7: 3, 8: 0, 9: 5}\n"
     ]
    }
   ],
   "source": [
    "# 4-\n",
    "import numpy as np\n",
    "np.random.seed(0)\n",
    "n=10\n",
    "perm=np.random.permutation(10)\n",
    "d={i:perm[i] for i in range(n)}\n",
    "print(d)"
   ]
  },
  {
   "cell_type": "code",
   "execution_count": 3,
   "id": "3152193b",
   "metadata": {},
   "outputs": [
    {
     "name": "stdout",
     "output_type": "stream",
     "text": [
      "[1, 1, 1, 0, 1, 0, 0, 0, 1, 0]\n",
      "[1, 1, 1, 2, 1, 2, 2, 2, 1, 2]\n",
      "2 cycles\n"
     ]
    }
   ],
   "source": [
    "# A directed graph is given with dictionary d.\n",
    "# Count how many separate cycles there are in this graph\n",
    "\n",
    "marked = [0]*len(d)\n",
    "n_cycle = 0\n",
    "for i in range(len(d)):\n",
    "    if not marked[i]:\n",
    "        n_cycle+=1\n",
    "        j=i\n",
    "        while not marked[j]:\n",
    "            marked[j]=n_cycle\n",
    "            j=d[j]   \n",
    "        print(marked)\n",
    "print(n_cycle,'cycles')"
   ]
  }
 ],
 "metadata": {
  "kernelspec": {
   "display_name": "Python 3",
   "language": "python",
   "name": "python3"
  },
  "language_info": {
   "codemirror_mode": {
    "name": "ipython",
    "version": 3
   },
   "file_extension": ".py",
   "mimetype": "text/x-python",
   "name": "python",
   "nbconvert_exporter": "python",
   "pygments_lexer": "ipython3",
   "version": "3.8.8"
  }
 },
 "nbformat": 4,
 "nbformat_minor": 5
}
