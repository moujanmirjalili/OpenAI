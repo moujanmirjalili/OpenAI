{
 "cells": [
  {
   "cell_type": "markdown",
   "metadata": {},
   "source": [
    "# Hands-on 3"
   ]
  },
  {
   "cell_type": "markdown",
   "metadata": {},
   "source": [
    "**Execute the cell below. By running this cell, a dataset will be loaded from `patents_small.csv` file. In this notebook, you are asked to analyze this data in several ways. There are three numpy arrays in this dataset:**\n",
    "- `patent_number`: a unique identifier for each patetnt\n",
    "- `patent features`: a vector of 16 features describing several properties of each patent\n",
    "- `category`: the category to which a patent belongs "
   ]
  },
  {
   "cell_type": "code",
   "execution_count": 20,
   "metadata": {},
   "outputs": [],
   "source": [
    "import pandas as pd\n",
    "import numpy as np\n",
    "\n",
    "df = pd.read_csv('patents.csv')\n",
    "df.head()\n",
    "patent_number = df['publication_number'].to_numpy()\n",
    "patent_features = df['patent_embedding'].to_numpy()\n",
    "temp = []\n",
    "for i in range(patent_features.size):\n",
    "    s = str(patent_features[i])\n",
    "    s1 = s.replace(r'\\n', '')\n",
    "    temp.append(\n",
    "        np.array(s.split()[1:-1], dtype='float')[:16]\n",
    "    )\n",
    "\n",
    "patent_features = np.stack(temp)\n",
    "patent_category = df['category']"
   ]
  },
  {
   "cell_type": "markdown",
   "metadata": {},
   "source": [
    "<hr />"
   ]
  },
  {
   "cell_type": "markdown",
   "metadata": {},
   "source": [
    "1- Which patent has the highest norm? (Eucledian distance from origin)\n"
   ]
  },
  {
   "cell_type": "code",
   "execution_count": 11,
   "metadata": {},
   "outputs": [
    {
     "data": {
      "text/plain": [
       "'CH-527846-A'"
      ]
     },
     "execution_count": 11,
     "metadata": {},
     "output_type": "execute_result"
    }
   ],
   "source": [
    "dfo = np.sqrt(np.sum(np.power(patent_features,2), axis=1))\n",
    "max_val = np.max(dfo)\n",
    "max_val_index = np.argmax(dfo)\n",
    "max_num = patent_number[max_val_index]\n",
    "max_num"
   ]
  },
  {
   "cell_type": "markdown",
   "metadata": {},
   "source": [
    "2- Find the two patents that are the farthest from eachother."
   ]
  },
  {
   "cell_type": "code",
   "execution_count": 18,
   "metadata": {},
   "outputs": [
    {
     "data": {
      "text/plain": [
       "((1661, 9236), (9236, 1661))"
      ]
     },
     "execution_count": 18,
     "metadata": {},
     "output_type": "execute_result"
    }
   ],
   "source": [
    "import scipy.spatial.distance as ssd\n",
    "import matplotlib.pyplot as plt\n",
    "\n",
    "dist = ssd.cdist(patent_features, patent_features)\n",
    "max_dist = np.max(dist)\n",
    "\n",
    "d = np.where(dist == max_dist)\n",
    "tuple(zip(d[0], d[1]))"
   ]
  },
  {
   "cell_type": "markdown",
   "metadata": {},
   "source": [
    "3- Write a function that, given a patent number, finds its nearest neighbour.\n"
   ]
  },
  {
   "cell_type": "code",
   "execution_count": 35,
   "metadata": {},
   "outputs": [
    {
     "name": "stdout",
     "output_type": "stream",
     "text": [
      "2147\n"
     ]
    }
   ],
   "source": [
    "def find_patent_num_nn(num):    \n",
    "    nn = np.argsort(dist,axis=1)[num,1]\n",
    "    return nn\n",
    "print(find_patent_num_nn(1))"
   ]
  },
  {
   "cell_type": "markdown",
   "metadata": {},
   "source": [
    "4- For each patent category, find the cluster center. This quantity is computed by taking average of all patents associated with each cluster."
   ]
  },
  {
   "cell_type": "code",
   "execution_count": 30,
   "metadata": {},
   "outputs": [
    {
     "data": {
      "text/plain": [
       "[array([ 0.01021772,  0.0140427 , -0.03571764,  0.05286253, -0.04302765,\n",
       "        -0.00263517,  0.02233755, -0.04675915,  0.01272022,  0.03165236,\n",
       "         0.01146286, -0.00024609,  0.01377522,  0.00555212,  0.02024696,\n",
       "        -0.04467966]),\n",
       " array([ 0.01211396, -0.0304879 ,  0.05560378, -0.03702774,  0.00110319,\n",
       "         0.01892597, -0.04493763,  0.01639101,  0.03405147,  0.01160055,\n",
       "        -0.0039251 ,  0.01961012,  0.0012078 ,  0.02051051, -0.04779424,\n",
       "        -0.01136447]),\n",
       " array([ 0.01086092, -0.02427292,  0.06917166, -0.04593048, -0.02812299,\n",
       "        -0.0124727 , -0.04987288,  0.00655626,  0.0098301 , -0.01550384,\n",
       "         0.00122531,  0.00426678,  0.00017979,  0.02210309, -0.02753392,\n",
       "        -0.00829946]),\n",
       " array([ 0.01844678,  0.00991557, -0.05545595,  0.02615103, -0.07078419,\n",
       "        -0.0115121 ,  0.04539117, -0.05906673, -0.02173693,  0.00203886,\n",
       "         0.00052992,  0.02329754, -0.03247548,  0.03103352,  0.0140693 ,\n",
       "        -0.06104154]),\n",
       " array([ 0.01498087,  0.02345642, -0.00569218,  0.04002896, -0.03471142,\n",
       "         0.00468704,  0.01612199, -0.03838371,  0.00732594,  0.00352215,\n",
       "         0.00011503,  0.01232852, -0.01395763,  0.00333184,  0.04570635,\n",
       "        -0.0292569 ]),\n",
       " array([ 0.01717531,  0.01595333, -0.03129371,  0.05920419, -0.05942006,\n",
       "        -0.03559038, -0.01542298, -0.05486974,  0.00243557,  0.004506  ,\n",
       "        -0.02005723,  0.00059813, -0.00323446,  0.00388401,  0.01666861,\n",
       "        -0.02052029]),\n",
       " array([ 0.02380652, -0.00299412,  0.0480317 , -0.03110474,  0.00233771,\n",
       "         0.0145927 , -0.0331035 ,  0.00962097,  0.00774661,  0.00056323,\n",
       "         0.01158552, -0.00853263,  0.00206507,  0.04807342, -0.03418843,\n",
       "         0.00104518]),\n",
       " array([ 8.79519076e-03, -4.88311352e-02,  2.29908733e-02, -5.66476866e-02,\n",
       "        -9.19576819e-03,  4.12041488e-02, -5.63686219e-02, -1.33915669e-02,\n",
       "         1.58014840e-02,  1.14049335e-05,  1.64819622e-02, -2.36509750e-02,\n",
       "         1.72316331e-02,  2.15542465e-02, -5.94789040e-02, -1.30144330e-02])]"
      ]
     },
     "execution_count": 30,
     "metadata": {},
     "output_type": "execute_result"
    }
   ],
   "source": [
    "centers = []\n",
    "for i in patent_category.unique():\n",
    "    clusters = patent_features[np.where(patent_category == i)]\n",
    "#     print(clusters.shape)\n",
    "    centers.append(np.mean(clusters, axis=0))\n",
    "centers"
   ]
  },
  {
   "cell_type": "markdown",
   "metadata": {},
   "source": [
    "5- How many patents have a nearest neighbour that is in the same category?"
   ]
  },
  {
   "cell_type": "code",
   "execution_count": null,
   "metadata": {},
   "outputs": [],
   "source": [
    "# count = 0\n",
    "# for i in range(len(patent_features)):\n",
    "#     neighbor = find_patent_num_nn(i)\n",
    "#     if patent_category[neighbor] == patent_category[i]:\n",
    "#         count += 1\n",
    "# count"
   ]
  },
  {
   "cell_type": "code",
   "execution_count": 51,
   "metadata": {},
   "outputs": [
    {
     "data": {
      "text/plain": [
       "0"
      ]
     },
     "execution_count": 51,
     "metadata": {},
     "output_type": "execute_result"
    }
   ],
   "source": [
    "l1 = np.argsort(dist, axis=1)[:,1]\n",
    "l2 = np.argsort(dist, axis=1)[:,0]\n",
    "\n",
    "l1_cat = patent_category[l1].to_numpy\n",
    "l2_cat = patent_category[l2].to_numpy\n",
    "\n",
    "np.sum(l1_cat == l2_cat)"
   ]
  },
  {
   "cell_type": "markdown",
   "metadata": {},
   "source": [
    "6- What is the average and std of distances between every pair of patents?\n"
   ]
  },
  {
   "cell_type": "code",
   "execution_count": 46,
   "metadata": {},
   "outputs": [
    {
     "name": "stdout",
     "output_type": "stream",
     "text": [
      "0.1774779588870755 0.06172153433074445\n"
     ]
    }
   ],
   "source": [
    "print(np.mean(dist), np.std(dist))"
   ]
  },
  {
   "cell_type": "markdown",
   "metadata": {},
   "source": [
    "7- What is the average and std of distances between every pair of patents within a category?\n",
    "Using these calculated quantities, which cluster do you think is more condensed? Which one is more scattered?"
   ]
  },
  {
   "cell_type": "code",
   "execution_count": 29,
   "metadata": {},
   "outputs": [
    {
     "name": "stdout",
     "output_type": "stream",
     "text": [
      "[0.0009738304874799288, 0.00372157464923952, 0.0013628054733375635, -0.005488455708684333, 0.003100204077764672, -0.008824951548397287, -0.00853175919763606, -0.007498980939436589] \n",
      "\n",
      " [0.03410944535427806, 0.03358637702071674, 0.034015677639882086, 0.0367735426671537, 0.034148831780313436, 0.04437697474271802, 0.040063325421186825, 0.03869983254167759]\n"
     ]
    }
   ],
   "source": [
    "g = []\n",
    "for i in patent_category.unique():\n",
    "    clusters = patent_features[np.where(patent_category == i)]\n",
    "    g.append(clusters)\n",
    "mean_list = []\n",
    "std_list = []\n",
    "for i in patent_category.unique():\n",
    "    mean_list.append(np.mean(g[i]))\n",
    "    std_list.append(np.std(g[i]))\n",
    "print(mean_list, \"\\n\\n\", std_list)"
   ]
  }
 ],
 "metadata": {
  "kernelspec": {
   "display_name": "Python 3",
   "language": "python",
   "name": "python3"
  },
  "language_info": {
   "codemirror_mode": {
    "name": "ipython",
    "version": 3
   },
   "file_extension": ".py",
   "mimetype": "text/x-python",
   "name": "python",
   "nbconvert_exporter": "python",
   "pygments_lexer": "ipython3",
   "version": "3.8.8"
  },
  "vscode": {
   "interpreter": {
    "hash": "25aba1949f44877099d449300e326e4451e69b41f5f01d7de2dc51cdf7c75fa4"
   }
  }
 },
 "nbformat": 4,
 "nbformat_minor": 2
}
