{
 "cells": [
  {
   "cell_type": "markdown",
   "id": "eeb1ade4",
   "metadata": {},
   "source": [
    "### 1-\n",
    "add all the items in this list: ['1','2','2.5','3.5']\n"
   ]
  },
  {
   "cell_type": "code",
   "execution_count": 1,
   "id": "62b42805",
   "metadata": {},
   "outputs": [
    {
     "data": {
      "text/plain": [
       "9.0"
      ]
     },
     "execution_count": 1,
     "metadata": {},
     "output_type": "execute_result"
    }
   ],
   "source": [
    "list = ['1','2','2.5','3.5']\n",
    "list = [float(i) for i in list]\n",
    "sum_list = sum(list)\n",
    "sum_list"
   ]
  },
  {
   "cell_type": "markdown",
   "id": "fbdf211f",
   "metadata": {},
   "source": [
    "### 2- \n",
    "calculate the average of all 2-digit integers. (numbers 10 to 99)\n"
   ]
  },
  {
   "cell_type": "code",
   "execution_count": 2,
   "id": "29d7b7b9",
   "metadata": {},
   "outputs": [
    {
     "data": {
      "text/plain": [
       "54.5"
      ]
     },
     "execution_count": 2,
     "metadata": {},
     "output_type": "execute_result"
    }
   ],
   "source": [
    "list_2 = [int(i) for i in range(10, 100)]\n",
    "avg = sum(list_2)/len(list_2)\n",
    "avg"
   ]
  },
  {
   "cell_type": "markdown",
   "id": "eb3bd609",
   "metadata": {},
   "source": [
    "### 3- \n",
    "Given a variable, check if it is prime (a prime number is a number that is divisible only by itself and 1)\n"
   ]
  },
  {
   "cell_type": "code",
   "execution_count": 3,
   "id": "27f87528",
   "metadata": {},
   "outputs": [
    {
     "name": "stdout",
     "output_type": "stream",
     "text": [
      "7\n",
      "prime\n"
     ]
    }
   ],
   "source": [
    "num = int(input())\n",
    "flag = False\n",
    "if num>1:\n",
    "    for i in range(2, (num // 2 + 1)):\n",
    "        if num%i == 0:\n",
    "            flag = True\n",
    "            break\n",
    "if flag:\n",
    "    print(\"not prime\")\n",
    "else:\n",
    "    print(\"prime\")"
   ]
  },
  {
   "cell_type": "markdown",
   "id": "a8e01dc6",
   "metadata": {},
   "source": [
    "### 4- \n",
    "Given a variable, write a function to check if it is a prime number. You should handle all data types and corner cases (Numbers less than 2)\n"
   ]
  },
  {
   "cell_type": "code",
   "execution_count": 33,
   "id": "e74878e6",
   "metadata": {},
   "outputs": [
    {
     "name": "stdout",
     "output_type": "stream",
     "text": [
      "not prime\n"
     ]
    }
   ],
   "source": [
    "def is_prime_(num):\n",
    "    if (type(num) != int):\n",
    "        return \"not int\"\n",
    "    flag = \"prime\"\n",
    "    if num>1:\n",
    "        for i in range(2, (num // 2 + 1)):\n",
    "            if num%i == 0:\n",
    "                flag = \"not prime\"\n",
    "                break\n",
    "    else:\n",
    "        return \"not a correct number\"\n",
    "    return flag\n",
    "num = 1000\n",
    "print(is_prime_(num))"
   ]
  },
  {
   "cell_type": "markdown",
   "id": "13ec0f87",
   "metadata": {},
   "source": [
    "### 5- \n",
    "make a list of prime numbers less than 100.\n"
   ]
  },
  {
   "cell_type": "code",
   "execution_count": 6,
   "id": "48d1a3f7",
   "metadata": {},
   "outputs": [
    {
     "data": {
      "text/plain": [
       "[2,\n",
       " 3,\n",
       " 5,\n",
       " 7,\n",
       " 11,\n",
       " 13,\n",
       " 17,\n",
       " 19,\n",
       " 23,\n",
       " 29,\n",
       " 31,\n",
       " 37,\n",
       " 41,\n",
       " 43,\n",
       " 47,\n",
       " 53,\n",
       " 59,\n",
       " 61,\n",
       " 67,\n",
       " 71,\n",
       " 73,\n",
       " 79,\n",
       " 83,\n",
       " 89,\n",
       " 97]"
      ]
     },
     "execution_count": 6,
     "metadata": {},
     "output_type": "execute_result"
    }
   ],
   "source": [
    "def is_prime(num):\n",
    "    flag = 0\n",
    "    if num>1:\n",
    "        for i in range(2, (num // 2 + 1)):\n",
    "            if num%i == 0:\n",
    "                flag = 1\n",
    "                break\n",
    "    else:\n",
    "        return 2\n",
    "    return flag\n",
    "\n",
    "prime_list = []\n",
    "for i in range(100):\n",
    "    if (is_prime(i) == 0):\n",
    "        prime_list.append(i)\n",
    "prime_list"
   ]
  },
  {
   "cell_type": "markdown",
   "id": "f4eec208",
   "metadata": {},
   "source": [
    "### 6- \n",
    "make sets of integers S2, S3 less than 100 that are divisible by two, and three. Then take the intersection and union of the two sets. "
   ]
  },
  {
   "cell_type": "code",
   "execution_count": 10,
   "id": "d65bde2d",
   "metadata": {},
   "outputs": [
    {
     "data": {
      "text/plain": [
       "{0, 6, 12, 18, 24}"
      ]
     },
     "execution_count": 10,
     "metadata": {},
     "output_type": "execute_result"
    }
   ],
   "source": [
    "S2 = set(int(i) for i in range(25) if i%2 == 0)\n",
    "S3 = set(int(i) for i in range(25) if i%3 == 0)\n",
    "intersec = (S2 & S3)\n",
    "intersec"
   ]
  },
  {
   "cell_type": "markdown",
   "id": "36bac5d8",
   "metadata": {},
   "source": [
    "### 7-\n",
    "Find the set of all numbers less than 100 that are divisible by 2 and 3 and not by 5.\n"
   ]
  },
  {
   "cell_type": "code",
   "execution_count": 11,
   "id": "47b6fdbb",
   "metadata": {},
   "outputs": [
    {
     "data": {
      "text/plain": [
       "[6, 12, 18, 24, 36, 42, 48, 54, 66, 72, 78, 84, 96]"
      ]
     },
     "execution_count": 11,
     "metadata": {},
     "output_type": "execute_result"
    }
   ],
   "source": [
    "list_ = []\n",
    "for i in range(100):\n",
    "    if (i%2 == 0) and (i%3 == 0) and (i%5 != 0):\n",
    "        list_.append(i)\n",
    "list_       "
   ]
  },
  {
   "cell_type": "markdown",
   "id": "38d3a022",
   "metadata": {},
   "source": [
    "### 8- \n",
    "\n",
    "Write a code to generate this pattern given n number of lines:\n",
    "(For n = 6)\n",
    "### \\****** \n",
    "### \\***** \n",
    "### \\**** \n",
    "### \\*** \n",
    "### \\** \n",
    "### \\*\n",
    "\n"
   ]
  },
  {
   "cell_type": "code",
   "execution_count": 34,
   "id": "92e8f426",
   "metadata": {},
   "outputs": [
    {
     "name": "stdout",
     "output_type": "stream",
     "text": [
      "******\n",
      "\n",
      "\n",
      "*****\n",
      "\n",
      "\n",
      "****\n",
      "\n",
      "\n",
      "***\n",
      "\n",
      "\n",
      "**\n",
      "\n",
      "\n",
      "*\n",
      "\n",
      "\n"
     ]
    }
   ],
   "source": [
    "for i in range(6, 0, -1):\n",
    "    for j in range(i):\n",
    "        print(\"*\", end='')\n",
    "    print('\\n\\n')"
   ]
  },
  {
   "cell_type": "markdown",
   "id": "feeb3cfa",
   "metadata": {},
   "source": [
    "### 9-\n",
    "write a code to reverse this string :\n",
    "\n",
    "\"I love python programming\" --> \"programming python love I\""
   ]
  },
  {
   "cell_type": "code",
   "execution_count": 15,
   "id": "ece78ccd",
   "metadata": {},
   "outputs": [
    {
     "name": "stdout",
     "output_type": "stream",
     "text": [
      "programming python love I "
     ]
    }
   ],
   "source": [
    "inp = \"I love python programming\" \n",
    "li = list(inp.split())\n",
    "for i in range(len(li)-1, -1, -1):\n",
    "    print(li[i], end=' ')"
   ]
  },
  {
   "cell_type": "markdown",
   "id": "a3700b20",
   "metadata": {},
   "source": [
    "### 10- \n",
    "Given this string, make a set of all words\n",
    "(You can use split and replace functions)"
   ]
  },
  {
   "cell_type": "code",
   "execution_count": 17,
   "id": "849f134b",
   "metadata": {},
   "outputs": [
    {
     "data": {
      "text/plain": [
       "{'It',\n",
       " 'Python',\n",
       " 'a',\n",
       " 'alongside',\n",
       " 'also',\n",
       " 'and',\n",
       " 'applications.',\n",
       " 'be',\n",
       " 'big',\n",
       " 'can',\n",
       " 'complex',\n",
       " 'connect',\n",
       " 'create',\n",
       " 'data',\n",
       " 'database',\n",
       " 'development.',\n",
       " 'files.',\n",
       " 'for',\n",
       " 'handle',\n",
       " 'mathematics.',\n",
       " 'modify',\n",
       " 'on',\n",
       " 'or',\n",
       " 'perform',\n",
       " 'production-ready',\n",
       " 'prototyping,',\n",
       " 'rapid',\n",
       " 'read',\n",
       " 'server',\n",
       " 'software',\n",
       " 'systems.',\n",
       " 'to',\n",
       " 'used',\n",
       " 'web',\n",
       " 'workflows.'}"
      ]
     },
     "execution_count": 17,
     "metadata": {},
     "output_type": "execute_result"
    }
   ],
   "source": [
    "my_string = '''Python can be used on a server to create web applications.\n",
    "Python can be used alongside software to create workflows.\n",
    "Python can connect to database systems. It can also read and modify files.\n",
    "Python can be used to handle big data and perform complex mathematics.\n",
    "Python can be used for rapid prototyping, or for production-ready software development.'''\n",
    "\n",
    "my_list = list(my_string.split())\n",
    "my_set = set(my_list)\n",
    "my_set"
   ]
  },
  {
   "cell_type": "markdown",
   "id": "8ab6670f",
   "metadata": {},
   "source": [
    "Population variance and standard deviation"
   ]
  },
  {
   "cell_type": "code",
   "execution_count": 22,
   "id": "f3a6f544",
   "metadata": {},
   "outputs": [
    {
     "name": "stdout",
     "output_type": "stream",
     "text": [
      "variance= 674.9166666666666 sd= 25.979158313283875\n"
     ]
    }
   ],
   "source": [
    "import math\n",
    "\n",
    "list__ = [int(i) for i in range(10, 100)]\n",
    "avg = sum(list__)/len(list__)\n",
    "var = 0\n",
    "for i in range(len(list__)):\n",
    "    var += math.pow(list__[i]-avg, 2)\n",
    "var = var/len(list__)\n",
    "sd = math.pow(var, 0.5)\n",
    "\n",
    "print(\"variance=\", var , \"sd=\", sd)\n"
   ]
  },
  {
   "cell_type": "markdown",
   "id": "b4633fcf",
   "metadata": {},
   "source": [
    "Sample variance and standard deviation"
   ]
  },
  {
   "cell_type": "code",
   "execution_count": 26,
   "id": "51017f73",
   "metadata": {},
   "outputs": [
    {
     "name": "stdout",
     "output_type": "stream",
     "text": [
      "Variance is 682.5\n",
      "SD is 26.124700955226263\n"
     ]
    }
   ],
   "source": [
    "import statistics\n",
    " \n",
    "print(\"Variance is\", (statistics.variance(list__)))\n",
    "print(\"SD is\",math.pow((statistics.variance(list__)), 0.5))"
   ]
  }
 ],
 "metadata": {
  "kernelspec": {
   "display_name": "Python 3",
   "language": "python",
   "name": "python3"
  },
  "language_info": {
   "codemirror_mode": {
    "name": "ipython",
    "version": 3
   },
   "file_extension": ".py",
   "mimetype": "text/x-python",
   "name": "python",
   "nbconvert_exporter": "python",
   "pygments_lexer": "ipython3",
   "version": "3.8.8"
  }
 },
 "nbformat": 4,
 "nbformat_minor": 5
}
