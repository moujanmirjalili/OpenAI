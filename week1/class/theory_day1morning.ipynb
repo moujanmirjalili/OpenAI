{
 "cells": [
  {
   "cell_type": "code",
   "execution_count": 4,
   "id": "aa0315c2",
   "metadata": {},
   "outputs": [],
   "source": [
    "import numpy as np"
   ]
  },
  {
   "cell_type": "code",
   "execution_count": 51,
   "id": "0f27d6e7",
   "metadata": {},
   "outputs": [
    {
     "data": {
      "text/plain": [
       "0.49991952376053417"
      ]
     },
     "execution_count": 51,
     "metadata": {},
     "output_type": "execute_result"
    }
   ],
   "source": [
    "#np.random.seed(42)\n",
    "np.mean(np.random.rand(10000000))"
   ]
  },
  {
   "cell_type": "code",
   "execution_count": 61,
   "id": "364c6204",
   "metadata": {},
   "outputs": [
    {
     "name": "stdout",
     "output_type": "stream",
     "text": [
      "[1, 2, 3]\n",
      "[6, 5, 4]\n",
      "[1 2 3]\n",
      "[6 5 4]\n",
      "[0.16666667 0.4        0.75      ]\n"
     ]
    }
   ],
   "source": [
    "a_list=[1,2,3]\n",
    "b_list=[6,5,4]\n",
    "a=np.array(a_list)\n",
    "b=np.array(b_list)\n",
    "print(a_list)\n",
    "print(b_list)\n",
    "print(a)\n",
    "print(b)\n",
    "print(a/b)"
   ]
  },
  {
   "cell_type": "code",
   "execution_count": 72,
   "id": "25f7f942",
   "metadata": {},
   "outputs": [],
   "source": [
    "x=np.arange(0,10,0.01)\n",
    "y=np.sin(x)"
   ]
  },
  {
   "cell_type": "code",
   "execution_count": 74,
   "id": "19adb251",
   "metadata": {},
   "outputs": [
    {
     "data": {
      "text/plain": [
       "[<matplotlib.lines.Line2D at 0x7fab2165cb90>]"
      ]
     },
     "execution_count": 74,
     "metadata": {},
     "output_type": "execute_result"
    },
    {
     "data": {
      "image/png": "[encoded data removed]",
      "text/plain": [
       "<Figure size 432x288 with 1 Axes>"
      ]
     },
     "metadata": {
      "needs_background": "light"
     },
     "output_type": "display_data"
    }
   ],
   "source": [
    "import matplotlib.pyplot as plt\n",
    "plt.plot(x,y,'.',alpha=0.1)"
   ]
  },
  {
   "cell_type": "code",
   "execution_count": 71,
   "id": "fbe3048f",
   "metadata": {},
   "outputs": [
    {
     "name": "stdout",
     "output_type": "stream",
     "text": [
      "mean 54.5\n",
      "std 25.979158313283875\n"
     ]
    }
   ],
   "source": [
    "print('mean',np.mean(np.arange(10,100)))\n",
    "print('std', np.std (np.arange(10,100)))\n"
   ]
  },
  {
   "cell_type": "code",
   "execution_count": 78,
   "id": "79d68e83",
   "metadata": {},
   "outputs": [
    {
     "data": {
      "text/plain": [
       "array([0. , 0.1, 0.2, 0.3, 0.4, 0.5, 0.6, 0.7, 0.8, 0.9])"
      ]
     },
     "execution_count": 78,
     "metadata": {},
     "output_type": "execute_result"
    }
   ],
   "source": [
    "x[0:100:10]"
   ]
  },
  {
   "cell_type": "code",
   "execution_count": 80,
   "id": "a3b4674f",
   "metadata": {},
   "outputs": [
    {
     "data": {
      "text/plain": [
       "array([[1, 2],\n",
       "       [3, 4]])"
      ]
     },
     "execution_count": 80,
     "metadata": {},
     "output_type": "execute_result"
    }
   ],
   "source": [
    "np.array([[1,2],[3,4]])"
   ]
  },
  {
   "cell_type": "code",
   "execution_count": 93,
   "id": "b8acb217",
   "metadata": {},
   "outputs": [
    {
     "data": {
      "text/plain": [
       "array([[0., 0., 0., 0.],\n",
       "       [1., 0., 0., 0.],\n",
       "       [0., 1., 0., 0.],\n",
       "       [0., 0., 1., 0.]])"
      ]
     },
     "execution_count": 93,
     "metadata": {},
     "output_type": "execute_result"
    }
   ],
   "source": [
    "np.eye(4,4,k=-1)"
   ]
  },
  {
   "cell_type": "code",
   "execution_count": 101,
   "id": "a50533b7",
   "metadata": {},
   "outputs": [
    {
     "data": {
      "text/plain": [
       "array([[1., 1.],\n",
       "       [1., 1.]])"
      ]
     },
     "execution_count": 101,
     "metadata": {},
     "output_type": "execute_result"
    }
   ],
   "source": [
    "np.ones([2,2],dtype=np.double)"
   ]
  },
  {
   "cell_type": "code",
   "execution_count": 107,
   "id": "0554e6a1",
   "metadata": {},
   "outputs": [
    {
     "data": {
      "text/plain": [
       "array([ 3.93414272e+00+0.00000000e+00j, -6.18191348e-01-6.75706982e-02j,\n",
       "        2.58804940e-01+1.92575031e-01j, -8.51237697e-01+3.40757359e-01j,\n",
       "        8.28111434e-02+8.87862522e-01j,  3.66887486e-03-2.77555756e-17j,\n",
       "        8.28111434e-02-8.87862522e-01j, -8.51237697e-01-3.40757359e-01j,\n",
       "        2.58804940e-01-1.92575031e-01j, -6.18191348e-01+6.75706982e-02j])"
      ]
     },
     "execution_count": 107,
     "metadata": {},
     "output_type": "execute_result"
    }
   ],
   "source": [
    "np.fft.fft(np.random.rand(10))"
   ]
  },
  {
   "cell_type": "code",
   "execution_count": 134,
   "id": "c65bcdbf",
   "metadata": {},
   "outputs": [
    {
     "data": {
      "image/png": "[encoded data removed]",
      "text/plain": [
       "<Figure size 432x288 with 1 Axes>"
      ]
     },
     "metadata": {
      "needs_background": "light"
     },
     "output_type": "display_data"
    }
   ],
   "source": [
    "np.random.seed(1)\n",
    "#a=np.random.normal(10,1,size=1000000)\n",
    "a=np.random.rand(1000000)\n",
    "#print(a)\n",
    "plt.hist(a,bins=1000);"
   ]
  },
  {
   "cell_type": "code",
   "execution_count": 135,
   "id": "23411b94",
   "metadata": {},
   "outputs": [
    {
     "data": {
      "image/png": "[encoded data removed]",
      "text/plain": [
       "<Figure size 432x288 with 1 Axes>"
      ]
     },
     "metadata": {
      "needs_background": "light"
     },
     "output_type": "display_data"
    }
   ],
   "source": [
    "np.random.seed(1)\n",
    "a=np.random.normal(10,1,size=1000000)\n",
    "#print(a)\n",
    "plt.hist(a,bins=1000);"
   ]
  },
  {
   "cell_type": "code",
   "execution_count": 144,
   "id": "fecc6c2d",
   "metadata": {},
   "outputs": [
    {
     "name": "stdout",
     "output_type": "stream",
     "text": [
      "[[0.91718255 0.77379492]\n",
      " [0.31714457 0.09142841]]\n",
      "[[0.96512563 0.21165137]\n",
      " [0.36723848 0.6226762 ]]\n",
      "element-wise [[0.88519638 0.16377476]\n",
      " [0.11646769 0.05693029]]\n",
      "matrix mult [[1.16936365 0.67594663]\n",
      " [0.33966038 0.12405438]]\n"
     ]
    },
    {
     "data": {
      "text/plain": [
       "array([[1.16936365, 0.67594663],\n",
       "       [0.33966038, 0.12405438]])"
      ]
     },
     "execution_count": 144,
     "metadata": {},
     "output_type": "execute_result"
    }
   ],
   "source": [
    "a=np.random.rand(2,2)\n",
    "b=np.random.rand(2,2)\n",
    "print(a)\n",
    "print(b)\n",
    "print('element-wise',a*b)\n",
    "print('matrix mult',a@b)"
   ]
  },
  {
   "cell_type": "code",
   "execution_count": 146,
   "id": "89e94224",
   "metadata": {},
   "outputs": [
    {
     "name": "stdout",
     "output_type": "stream",
     "text": [
      "0.5248876122535401\n",
      "0.5248876122535401\n"
     ]
    }
   ],
   "source": [
    "print(a.mean())\n",
    "print(np.mean(a))"
   ]
  },
  {
   "cell_type": "code",
   "execution_count": 149,
   "id": "7d0a07fe",
   "metadata": {},
   "outputs": [
    {
     "data": {
      "text/plain": [
       "0.04804155148360861"
      ]
     },
     "execution_count": 149,
     "metadata": {},
     "output_type": "execute_result"
    }
   ],
   "source": [
    "a=np.random.rand(20,20)\n",
    "\n",
    "a.mean(axis=0).std() # better readability\n",
    "\n",
    "np.std(np.mean(a,axis=0))"
   ]
  },
  {
   "cell_type": "code",
   "execution_count": 158,
   "id": "ea643839",
   "metadata": {},
   "outputs": [
    {
     "data": {
      "text/plain": [
       "dtype('uint8')"
      ]
     },
     "execution_count": 158,
     "metadata": {},
     "output_type": "execute_result"
    }
   ],
   "source": [
    "#casting\n",
    "a.astype(np.uint8).dtype"
   ]
  },
  {
   "cell_type": "code",
   "execution_count": 163,
   "id": "5a29c799",
   "metadata": {},
   "outputs": [],
   "source": [
    "import scipy.spatial.distance as ssd\n"
   ]
  },
  {
   "cell_type": "code",
   "execution_count": 180,
   "id": "95dd4037",
   "metadata": {},
   "outputs": [
    {
     "data": {
      "text/plain": [
       "(10, 100)"
      ]
     },
     "execution_count": 180,
     "metadata": {},
     "output_type": "execute_result"
    }
   ],
   "source": [
    "n_sample=10\n",
    "n_dim=100\n",
    "a=np.random.rand(n_sample,n_dim)\n",
    "a.shape"
   ]
  },
  {
   "cell_type": "code",
   "execution_count": 181,
   "id": "b1dea7f6",
   "metadata": {},
   "outputs": [
    {
     "data": {
      "text/plain": [
       "<matplotlib.colorbar.Colorbar at 0x7fab206e4dd0>"
      ]
     },
     "execution_count": 181,
     "metadata": {},
     "output_type": "execute_result"
    },
    {
     "data": {
      "image/png": "[encoded data removed]",
      "text/plain": [
       "<Figure size 432x288 with 2 Axes>"
      ]
     },
     "metadata": {
      "needs_background": "light"
     },
     "output_type": "display_data"
    }
   ],
   "source": [
    "dist=ssd.cdist(a,a)\n",
    "plt.imshow(dist)\n",
    "plt.colorbar()"
   ]
  },
  {
   "cell_type": "code",
   "execution_count": 189,
   "id": "b0438f03",
   "metadata": {},
   "outputs": [
    {
     "data": {
      "text/plain": [
       "<matplotlib.image.AxesImage at 0x7fab21086e50>"
      ]
     },
     "execution_count": 189,
     "metadata": {},
     "output_type": "execute_result"
    },
    {
     "data": {
      "image/png": "[encoded data removed]",
      "text/plain": [
       "<Figure size 432x288 with 1 Axes>"
      ]
     },
     "metadata": {
      "needs_background": "light"
     },
     "output_type": "display_data"
    }
   ],
   "source": [
    "plt.imshow(np.sort(dist,axis=0))"
   ]
  },
  {
   "cell_type": "code",
   "execution_count": 188,
   "id": "954763f4",
   "metadata": {},
   "outputs": [
    {
     "data": {
      "text/plain": [
       "array([[0, 1, 2, 3, 4, 5, 6, 7, 8, 9],\n",
       "       [7, 0, 9, 9, 1, 7, 1, 0, 0, 2],\n",
       "       [8, 6, 1, 8, 7, 1, 9, 4, 3, 3],\n",
       "       [1, 4, 8, 1, 0, 2, 3, 5, 7, 6],\n",
       "       [4, 2, 3, 0, 9, 4, 0, 1, 2, 4],\n",
       "       [3, 7, 6, 6, 8, 9, 2, 8, 4, 1],\n",
       "       [6, 3, 4, 2, 2, 0, 7, 3, 1, 0],\n",
       "       [9, 5, 5, 7, 3, 8, 4, 9, 9, 7],\n",
       "       [2, 9, 0, 4, 5, 6, 5, 6, 5, 8],\n",
       "       [5, 8, 7, 5, 6, 3, 8, 2, 6, 5]])"
      ]
     },
     "execution_count": 188,
     "metadata": {},
     "output_type": "execute_result"
    }
   ],
   "source": [
    "np.argsort(dist,axis=0)#[1,:]"
   ]
  },
  {
   "cell_type": "code",
   "execution_count": null,
   "id": "dfe4e4d9",
   "metadata": {},
   "outputs": [],
   "source": []
  },
  {
   "cell_type": "code",
   "execution_count": null,
   "id": "f4b13477",
   "metadata": {},
   "outputs": [],
   "source": []
  },
  {
   "cell_type": "code",
   "execution_count": null,
   "id": "58c06a29",
   "metadata": {},
   "outputs": [],
   "source": []
  },
  {
   "cell_type": "code",
   "execution_count": null,
   "id": "395ec981",
   "metadata": {},
   "outputs": [],
   "source": []
  }
 ],
 "metadata": {
  "kernelspec": {
   "display_name": "Python 3",
   "language": "python",
   "name": "python3"
  },
  "language_info": {
   "codemirror_mode": {
    "name": "ipython",
    "version": 3
   },
   "file_extension": ".py",
   "mimetype": "text/x-python",
   "name": "python",
   "nbconvert_exporter": "python",
   "pygments_lexer": "ipython3",
   "version": "3.8.8"
  }
 },
 "nbformat": 4,
 "nbformat_minor": 5
}
