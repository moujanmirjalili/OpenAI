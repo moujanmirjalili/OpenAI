{
  "cells": [
    {
      "cell_type": "markdown",
      "id": "d95cb916",
      "metadata": {
        "id": "d95cb916"
      },
      "source": [
        "# Import"
      ]
    },
    {
      "cell_type": "code",
      "execution_count": null,
      "id": "48ec07f8",
      "metadata": {
        "id": "48ec07f8"
      },
      "outputs": [],
      "source": [
        "import matplotlib.pyplot as plt\n",
        "import numpy as np\n",
        "\n",
        "from sklearn.datasets import make_blobs\n",
        "from collections import defaultdict"
      ]
    },
    {
      "cell_type": "markdown",
      "id": "dc3791e3",
      "metadata": {
        "id": "dc3791e3"
      },
      "source": [
        "# Dataset Preparation"
      ]
    },
    {
      "cell_type": "code",
      "execution_count": null,
      "id": "ffc76ec8",
      "metadata": {
        "id": "ffc76ec8",
        "outputId": "79e853ff-c7e8-44b2-867d-498468967291"
      },
      "outputs": [
        {
          "data": {
            "image/png": "[encoded data removed]",
            "text/plain": [
              "<Figure size 288x288 with 1 Axes>"
            ]
          },
          "metadata": {
            "needs_background": "light"
          },
          "output_type": "display_data"
        }
      ],
      "source": [
        "features, clusters = make_blobs(\n",
        "    n_samples=200, \n",
        "    n_features=2, \n",
        "    centers=5, \n",
        "    cluster_std=2, \n",
        "    shuffle=True\n",
        ")\n",
        "\n",
        "plt.figure(figsize=(4, 4))\n",
        "plt.scatter(features[:, 0], features[:, 1])\n",
        "plt.show()"
      ]
    },
    {
      "cell_type": "markdown",
      "id": "8533dfc0",
      "metadata": {
        "id": "8533dfc0"
      },
      "source": [
        "# Algorithm Implementation"
      ]
    },
    {
      "cell_type": "code",
      "execution_count": null,
      "id": "7629a658",
      "metadata": {
        "id": "7629a658"
      },
      "outputs": [],
      "source": [
        "class Point: \n",
        "    def __init__(self, data):\n",
        "        self.data = data\n",
        "        self.cluster = None\n",
        "        \n",
        "class KMeans:\n",
        "    def __init__(self, K, random_seed):\n",
        "        self.K = K\n",
        "        self.random_seed = random_seed\n",
        "        self.centroids = None\n",
        "        \n",
        "    def _random_initialization(self, points):\n",
        "        np.random.seed(self.random_seed)\n",
        "        for point in points: \n",
        "            point.cluster = np.random.randint(0, self.K)\n",
        "    def _update_centroids(self, points):\n",
        "        \n",
        "        point_dict = defaultdict(list)\n",
        "        for point in points: \n",
        "            point_dict[point.cluster] = point_dict[point.cluster] + [point.data]\n",
        "            \n",
        "        prev_centroids = self.centroids\n",
        "        self.centroids = [np.mean(point_dict[k], axis=0) for k in range(self.K)]\n",
        "        \n",
        "        for i, c in enumerate(self.centroids): \n",
        "            if np.isnan(c).any():\n",
        "                self.centroids[i] = prev_centroids[i]\n",
        "        \n",
        "    def _point_assignment(self, points):\n",
        "        for point in points: \n",
        "            distances = [\n",
        "                np.linalg.norm(point.data - self.centroids[k])\n",
        "                for k in range(self.K)\n",
        "            ]\n",
        "            point.cluster = np.argmin(distances)\n",
        "    \n",
        "    def fit(self, points, iterations=100):\n",
        "        self._random_initialization(points)\n",
        "        for _ in range(iterations):\n",
        "            self._update_centroids(points)\n",
        "            self._point_assignment(points)\n",
        "            \n",
        "    def predict(self, points):\n",
        "        self._point_assignment(points)\n",
        "        return [point.cluster for point in points]"
      ]
    },
    {
      "cell_type": "code",
      "execution_count": null,
      "id": "f04a0a5f",
      "metadata": {
        "id": "f04a0a5f"
      },
      "outputs": [],
      "source": [
        "kmeans = KMeans(K=5, random_seed=10)\n",
        "points = [Point(data) for data in features]\n",
        "kmeans.fit(points)\n",
        "predictions = kmeans.predict(points)"
      ]
    },
    {
      "cell_type": "markdown",
      "id": "2d40c26d",
      "metadata": {
        "id": "2d40c26d"
      },
      "source": [
        "# Evaluation"
      ]
    },
    {
      "cell_type": "code",
      "execution_count": null,
      "id": "5cbf2083",
      "metadata": {
        "id": "5cbf2083",
        "outputId": "9b66d8b6-8482-4199-946b-b23f6ab73dc2"
      },
      "outputs": [
        {
          "data": {
            "image/png": "[encoded data removed]",
            "text/plain": [
              "<Figure size 432x288 with 1 Axes>"
            ]
          },
          "metadata": {
            "needs_background": "light"
          },
          "output_type": "display_data"
        }
      ],
      "source": [
        "color_list = ['r', 'g', 'b', 'c', 'k']\n",
        "for i in range(5):\n",
        "    plt.scatter(\n",
        "        features[np.array(predictions)==i, 0], \n",
        "        features[np.array(predictions)==i, 1],\n",
        "        color=color_list[i]\n",
        "    )\n",
        "    \n",
        "plt.show()"
      ]
    }
  ],
  "metadata": {
    "kernelspec": {
      "display_name": "Python 3 (ipykernel)",
      "language": "python",
      "name": "python3"
    },
    "language_info": {
      "codemirror_mode": {
        "name": "ipython",
        "version": 3
      },
      "file_extension": ".py",
      "mimetype": "text/x-python",
      "name": "python",
      "nbconvert_exporter": "python",
      "pygments_lexer": "ipython3",
      "version": "3.10.4"
    },
    "colab": {
      "name": "K-means.ipynb",
      "provenance": []
    }
  },
  "nbformat": 4,
  "nbformat_minor": 5
}