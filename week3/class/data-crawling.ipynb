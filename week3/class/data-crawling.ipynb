{
 "cells": [
  {
   "cell_type": "markdown",
   "metadata": {},
   "source": [
    "# Data Crawling"
   ]
  },
  {
   "cell_type": "code",
   "execution_count": 6,
   "metadata": {},
   "outputs": [],
   "source": [
    "import pandas as pd\n",
    "import matplotlib.pyplot as plt"
   ]
  },
  {
   "cell_type": "markdown",
   "metadata": {},
   "source": [
    "## Let's learn some basic *HTML*!!"
   ]
  },
  {
   "cell_type": "markdown",
   "metadata": {},
   "source": [
    "..."
   ]
  },
  {
   "cell_type": "markdown",
   "metadata": {},
   "source": [
    "## Web Crawling With `BeautifulSoup4`"
   ]
  },
  {
   "cell_type": "code",
   "execution_count": 7,
   "metadata": {},
   "outputs": [
    {
     "data": {
      "text/plain": [
       "'<!DOCTYPE html>\\r\\n\\r\\n\\r\\n    <html class=\"html__responsive \" lang=\"en\">\\r\\n\\r\\n    <head>\\r\\n\\r\\n        <title>Newest Questions - Page 1 - Stack Overflow</title>\\r\\n        <link rel=\"shortcut icon\" href=\"https://cdn.sstatic.net/Sites/stackoverflow/Img/favicon.ico?v=ec617d715196\">\\r\\n        <link rel=\"apple-touch-icon\" href=\"https://cdn.sstatic.net/Sites/stackoverflow/Img/apple-touch-icon.png?v=c78bd457575a\">\\r\\n        <link rel=\"image_src\" href=\"https://cdn.sstatic.net/Sites/stackoverflow/Img/apple-touch-icon.png?v=c78bd457575a\"> \\r\\n        <link rel=\"search\" type=\"application/opensearchdescription+xml\" title=\"Stack Overflow\" href=\"/opensearch.xml\">\\r\\n    <meta name=\"viewport\" content=\"width=device-width, height=device-height, initial-scale=1.0, minimum-scale=1.0\">\\r\\n        <meta property=\"og:type\" content= \"website\" />\\r\\n        <meta property=\"og:url\" content=\"https://stackoverflow.com/questions?tab=newest&amp;pagesize=50&amp;page=1\"/>\\r\\n        <meta property=\"og:site_name\" content=\"Stack Overflow\" />\\r\\n        <meta property=\"og:image\" itemprop=\"image primaryImageOfPage\" content=\"https://cdn.sstatic.net/Sites/stackoverflow/Img/apple-touch-icon@2.png?v=73d79a89bded\" />\\r\\n        <meta name=\"twitter:card\" content=\"summary\"/>\\r\\n        <meta name=\"twitter:domain\" content=\"stackoverflow.com\"/>\\r\\n        <meta name=\"twitter:title\" property=\"og:title\" itemprop=\"name\" content=\"Newest Questions - Page 1\" />\\r\\n        <meta name=\"twitter:description\" property=\"og:description\" itemprop=\"description\" content=\"Stack Overflow | The World&#x2019;s Largest Online Community for Developers\" />\\r\\n    <script id=\"webpack-public-path\" type=\"text/uri-list\">https://cdn.sstatic.net/</script>\\r\\n    <script src=\"https://ajax.googleapis.com/ajax/libs/jquery/1.12.4/jquery.min.js\"></script>\\r\\n    <script async src=\"https://cdn.sstatic.net/Js/third-party/npm/@stackoverflow/stacks/dist/js/stacks.min.js?v=ab1405598e13\"></script>\\r\\n    <script src=\"https://cdn.sstatic.net/Js/stub.en.js?v=e6d116cd69f1\"></script>\\r\\n\\r\\n\\r\\n    <link rel=\"stylesheet\" type=\"text/css\" href=\"https://cdn.sstatic.net/Shared/stacks.css?v=80fd497d7932\">\\r\\n    <link rel=\"stylesheet\" type=\"text/css\" href=\"https://cdn.sstatic.net/Sites/stackoverflow/primary.css?v=a0b5f048daf9\">\\r\\n\\r\\n\\r\\n    \\r\\n    \\r\\n    <script defer src=\"https://cdn.sstatic.net/Js/questions/list.en.js?v=ba421cedfccc\"></script>\\r\\n    \\r\\n\\r\\n        \\r\\n        \\r\\n        \\r\\n        <link rel=\"stylesheet\" type=\"text/css\" href=\"https://cdn.sstatic.net/Shared/Channels/channels.css?v=c5f00504238a\">\\r\\n        \\r\\n        \\r\\n        \\r\\n\\r\\n\\r\\n    <script type=\"application/json\" data-role=\"module-args\" data-module-name=\"Shared/options.mod\">{\"options\":{\"locale\":\"en\",\"serverTime\":1660575091,\"routeName\":\"Questions/List\",\"stackAuthUrl\":\"https://stackauth.com\",\"networkMetaHostname\":\"meta.stackexchange.com\",\"site\":{\"name\":\"Stack Overflow\",\"description\":\"Q\\\\u0026A for professional and enthusiast programmers\",\"isNoticesTabEnabled\":true,\"enableNewTagCreationWarning\":true,\"insertSpaceAfterNameTabCompletion\"'"
      ]
     },
     "execution_count": 7,
     "metadata": {},
     "output_type": "execute_result"
    }
   ],
   "source": [
    "import requests\n",
    "html = requests.get('https://stackoverflow.com/questions?tab=newest&pagesize=50&page=1')\n",
    "html.text[:3000]        # A gigantic messy string. Extremely difficult to interact with."
   ]
  },
  {
   "cell_type": "code",
   "execution_count": 8,
   "metadata": {},
   "outputs": [],
   "source": [
    "from bs4 import BeautifulSoup\n",
    "soup = BeautifulSoup(html.text)"
   ]
  },
  {
   "cell_type": "markdown",
   "metadata": {},
   "source": [
    "## Finding Elements"
   ]
  },
  {
   "cell_type": "code",
   "execution_count": 9,
   "metadata": {},
   "outputs": [
    {
     "name": "stdout",
     "output_type": "stream",
     "text": [
      "\n",
      "Stack Overflow\n",
      "Public questions & answers\n",
      "\n"
     ]
    }
   ],
   "source": [
    "all_links = soup.find_all('a')\n",
    "print(all_links[5].text)"
   ]
  },
  {
   "cell_type": "code",
   "execution_count": 10,
   "metadata": {},
   "outputs": [
    {
     "name": "stdout",
     "output_type": "stream",
     "text": [
      "Number of question boxes in page: 50\n",
      "-------------------------------------------------------------\n",
      "<div class=\"s-post-summary js-post-summary\" data-post-id=\"73362667\" data-post-type-id=\"1\" id=\"question-summary-73362667\">\n",
      "<div class=\"s-post-summary--stats js-post-summary-stats\">\n",
      "<div class=\"s-post-summary--stats-item s-post-summary--stats-item__emphasized\" title=\"Score of 0\">\n",
      "<span class=\"s-post-summary--stats-item-number\">0</span>\n",
      "<span class=\"s-post-summary--stats-item-unit\">votes</span>\n",
      "</div>\n",
      "<div class=\"s-post-summary--stats-item\" title=\"0 answers\">\n",
      "<span class=\"s-post-summary--stats-item-number\">0</span>\n",
      "<span class=\"s-post-summary--stats-item-unit\">answers</span>\n",
      "</div>\n",
      "<div class=\"s-post-summary--stats-item\" title=\"3 views\">\n",
      "<span class=\"s-post-summary--stats-item-number\">3</span>\n",
      "<span class=\"s-post-summary--stats-item-unit\">views</span>\n",
      "</div>\n",
      "</div>\n",
      "<div class=\"s-post-summary--content\">\n",
      "<h3 class=\"s-post-summary--content-title\">\n",
      "<a class=\"s-link\" href=\"/questions/73362667/e11000-duplicate-key-error-collection-when-create\">E11000 duplicate key error collection when create</a>\n",
      "</h3>\n",
      "<div class=\"s-post-summary--content-excerpt\">\r\n",
      "                I'm developing a chat system with typescript and mongodb (using mongoose)\n",
      "When creating new message I get the following error:\n",
      "\n",
      "E11000 duplicate key error collection: test.messages index: user....\r\n",
      "            </div>\n",
      "<div class=\"s-post-summary--meta\">\n",
      "<div class=\"s-post-summary--meta-tags tags js-tags t-typescript t-mongodb t-mongoose\">\n",
      "<a class=\"post-tag flex--item mt0 js-tagname-typescript\" href=\"/questions/tagged/typescript\" rel=\"tag\" title=\"show questions tagged 'typescript'\">typescript</a> <a class=\"post-tag flex--item mt0 js-tagname-mongodb\" href=\"/questions/tagged/mongodb\" rel=\"tag\" title=\"show questions tagged 'mongodb'\">mongodb</a> <a class=\"post-tag flex--item mt0 js-tagname-mongoose\" href=\"/questions/tagged/mongoose\" rel=\"tag\" title=\"show questions tagged 'mongoose'\">mongoose</a>\n",
      "</div>\n",
      "<div class=\"s-user-card s-user-card__minimal\">\n",
      "<a class=\"s-avatar s-avatar__16 s-user-card--avatar\" href=\"/users/4554890/user4554890\"> <div class=\"gravatar-wrapper-16\" data-user-id=\"4554890\">\n",
      "<img alt=\"user avatar\" class=\"s-avatar--image\" height=\"16\" src=\"https://www.gravatar.com/avatar/df4b35d32640f3229d4cb88671383da5?s=32&amp;d=identicon&amp;r=PG&amp;f=1\" width=\"16\"/>\n",
      "</div>\n",
      "</a>\n",
      "<div class=\"s-user-card--info\">\n",
      "<div class=\"s-user-card--link d-flex gs4\">\n",
      "<a class=\"flex--item\" href=\"/users/4554890/user4554890\">user4554890</a>\n",
      "</div>\n",
      "<ul class=\"s-user-card--awards\">\n",
      "<li class=\"s-user-card--rep\"><span class=\"todo-no-class-here\" dir=\"ltr\" title=\"reputation score \">1</span></li>\n",
      "</ul>\n",
      "</div>\n",
      "<time class=\"s-user-card--time\">asked <span class=\"relativetime\" title=\"2022-08-15 14:50:42Z\">49 secs ago</span></time>\n",
      "</div>\n",
      "</div>\n",
      "</div>\n",
      "</div>\n"
     ]
    }
   ],
   "source": [
    "all_question_boxes = soup.find_all('div', attrs={'class': 's-post-summary'})\n",
    "print(f'Number of question boxes in page: {len(all_question_boxes)}')\n",
    "print('-------------------------------------------------------------')\n",
    "print(all_question_boxes[1])"
   ]
  },
  {
   "cell_type": "markdown",
   "metadata": {},
   "source": [
    "**Extracting Question Titles**"
   ]
  },
  {
   "cell_type": "code",
   "execution_count": 11,
   "metadata": {},
   "outputs": [
    {
     "data": {
      "text/plain": [
       "['Slice multidimensional array',\n",
       " 'E11000 duplicate key error collection when create',\n",
       " \"Print all possible combination of words of length 10 from a list letters with repeating 'A' exactly twice\",\n",
       " 'I want to use the datetimepicker, but how do I make it Korean time when I input the time?',\n",
       " 'How to get the count of repeated values in PowerShell from an Excel Sheet',\n",
       " 'Replace the value located between two commas in Regex python',\n",
       " 'Input Domain field on NTLM authentication with Azure/go-ntlmssp package',\n",
       " 'How can I bind the curl process to submit when the button is clicked?',\n",
       " \"Spring Boot app doesn't read configuration from Consul if started before Consul\",\n",
       " 'Asking for an input for no reason']"
      ]
     },
     "execution_count": 11,
     "metadata": {},
     "output_type": "execute_result"
    }
   ],
   "source": [
    "all_question_title_elements = soup.select('.s-post-summary--content-title > a')     # Notice how we accessed specific tags using CSS selectors\n",
    "all_question_titles = [element.text for element in all_question_title_elements]\n",
    "all_question_titles[:10]"
   ]
  },
  {
   "cell_type": "markdown",
   "metadata": {},
   "source": [
    "**Extracting Question Excerpts**"
   ]
  },
  {
   "cell_type": "code",
   "execution_count": 12,
   "metadata": {},
   "outputs": [
    {
     "data": {
      "text/plain": [
       "['\\r\\n                I have an array (images_lst) having shape (250,500,500), it is basically a list of 250 images having dimensions 500X500. How do I select only the first dimension of the array to use it in a loop given ...\\r\\n            ',\n",
       " \"\\r\\n                I'm developing a chat system with typescript and mongodb (using mongoose)\\nWhen creating new message I get the following error:\\n\\nE11000 duplicate key error collection: test.messages index: user....\\r\\n            \",\n",
       " \"\\r\\n                I have a list of 5 letters ['A', 'B', 'N', 'M','E'].\\nI want to print all the words of length 10 letters that have exactly two letters A.\\nOrder is important.\\nI have tried with itertools.product as it ...\\r\\n            \",\n",
       " '\\r\\n                <DateTimePicker\\n            label=\"시작일\"\\n            value={startValue + 1}\\n            type=\" date\"\\n            inputFormat={\\'yyyy/MM/dd  HH:mm\\'}\\n            locale={ko}\\n        ...\\r\\n            ',\n",
       " '\\r\\n                Consider this is an Excel sheet.\\nName   | No\\nAjay   | 78\\nJay    | 90\\nRay    | 89\\nAjay   | 83\\nJay Mon| 65\\nI need output as\\nName   | No\\nAjay     2\\nJay      2 ( I want Jay Mon to be counted here as Jay ...\\r\\n            ']"
      ]
     },
     "execution_count": 12,
     "metadata": {},
     "output_type": "execute_result"
    }
   ],
   "source": [
    "all_question_excerpt_elements = soup.find_all('div', 's-post-summary--content-excerpt')\n",
    "all_question_excerpts = [element.text for element in all_question_excerpt_elements]\n",
    "all_question_excerpts[:5]"
   ]
  },
  {
   "cell_type": "markdown",
   "metadata": {},
   "source": [
    "**Extracting Username**"
   ]
  },
  {
   "cell_type": "code",
   "execution_count": 13,
   "metadata": {},
   "outputs": [
    {
     "data": {
      "text/plain": [
       "['vashista',\n",
       " 'user4554890',\n",
       " 'Anand_is_goat',\n",
       " '김도헌',\n",
       " 'LakshmanPillai',\n",
       " 'user19640240',\n",
       " 'JayRain',\n",
       " 'kennedyas',\n",
       " 'ka3ak',\n",
       " 'epic']"
      ]
     },
     "execution_count": 13,
     "metadata": {},
     "output_type": "execute_result"
    }
   ],
   "source": [
    "all_question_username_elements = soup.select('.s-user-card--info > .s-user-card--link > a')\n",
    "all_question_usernames = [element.text for element in all_question_username_elements]\n",
    "all_question_usernames[:10]"
   ]
  },
  {
   "cell_type": "markdown",
   "metadata": {},
   "source": [
    "**Extracting Question ID**"
   ]
  },
  {
   "cell_type": "code",
   "execution_count": 14,
   "metadata": {},
   "outputs": [
    {
     "data": {
      "text/plain": [
       "['73362668',\n",
       " '73362667',\n",
       " '73362666',\n",
       " '73362665',\n",
       " '73362664',\n",
       " '73362663',\n",
       " '73362662',\n",
       " '73362658',\n",
       " '73362657',\n",
       " '73362656']"
      ]
     },
     "execution_count": 14,
     "metadata": {},
     "output_type": "execute_result"
    }
   ],
   "source": [
    "id_elements = soup.select('.s-post-summary--content > .s-post-summary--content-title > a')\n",
    "all_question_ids = [element['href'].split('/')[2] for element in id_elements]\n",
    "all_question_ids[:10]"
   ]
  },
  {
   "cell_type": "markdown",
   "metadata": {},
   "source": [
    "**Extracting Post Stats**"
   ]
  },
  {
   "cell_type": "code",
   "execution_count": 15,
   "metadata": {},
   "outputs": [
    {
     "name": "stdout",
     "output_type": "stream",
     "text": [
      "['0', '0', '0', '0', '0', '0', '0', '0', '0', '0']\n",
      "['0', '0', '0', '0', '0', '0', '0', '0', '0', '0']\n",
      "['4', '3', '3', '2', '3', '2', '2', '5', '4', '9']\n"
     ]
    }
   ],
   "source": [
    "stats_element = soup.select('.s-post-summary--stats')\n",
    "questions_upvotes = []\n",
    "questions_answers = []\n",
    "questions_views = []\n",
    "for el in stats_element:\n",
    "    children = list(el.findChildren('div'))\n",
    "    questions_upvotes.append(\n",
    "        children[0].find('span').text\n",
    "    )\n",
    "    questions_answers.append(\n",
    "        children[1].find('span').text\n",
    "    )\n",
    "    questions_views.append(\n",
    "        children[2].find('span').text\n",
    "    )\n",
    "print(questions_upvotes[:10])\n",
    "print(questions_answers[:10])\n",
    "print(questions_views[:10])"
   ]
  },
  {
   "cell_type": "markdown",
   "metadata": {},
   "source": [
    "**Extracting Question Meta Tags**"
   ]
  },
  {
   "cell_type": "code",
   "execution_count": 16,
   "metadata": {},
   "outputs": [
    {
     "data": {
      "text/plain": [
       "[['python', 'loops', 'multidimensional-array', 'slice'],\n",
       " ['typescript', 'mongodb', 'mongoose'],\n",
       " ['python', 'python-3.x', 'string', 'list', 'itertools'],\n",
       " ['javascript'],\n",
       " ['excel', 'powershell']]"
      ]
     },
     "execution_count": 16,
     "metadata": {},
     "output_type": "execute_result"
    }
   ],
   "source": [
    "meta_tags_container = soup.find_all('div', 's-post-summary--meta-tags')\n",
    "all_question_meta_tags = []\n",
    "for question_tag_container in meta_tags_container:\n",
    "    temp = []\n",
    "    for child in question_tag_container.findChildren('a'):\n",
    "        temp.append(child.text)\n",
    "    all_question_meta_tags.append(temp)\n",
    "\n",
    "all_question_meta_tags[:5]"
   ]
  },
  {
   "cell_type": "markdown",
   "metadata": {},
   "source": [
    "## Creating Our Dataframe"
   ]
  },
  {
   "cell_type": "code",
   "execution_count": 17,
   "metadata": {},
   "outputs": [],
   "source": [
    "from itertools import chain\n",
    "\n",
    "questions_info_df = pd.DataFrame({\n",
    "    'id': all_question_ids,\n",
    "    'title': all_question_titles,\n",
    "    'excerpt': all_question_excerpts,\n",
    "    'username': all_question_usernames,\n",
    "    'upvotes': questions_upvotes,\n",
    "    'views': questions_views,\n",
    "    'answers': questions_answers,\n",
    "})\n",
    "\n",
    "question_ids_multiplied = list(chain(\n",
    "    *[[id]*len(meta_tags) for id, meta_tags in zip(all_question_ids, all_question_meta_tags)]\n",
    "))      # Don't freak out!!! It's easy!!\n",
    "\n",
    "meta_tags_df = pd.DataFrame({\n",
    "    'id': question_ids_multiplied,\n",
    "    'meta_tag': list(chain(*all_question_meta_tags))\n",
    "})"
   ]
  },
  {
   "cell_type": "code",
   "execution_count": 18,
   "metadata": {},
   "outputs": [
    {
     "data": {
      "text/html": [
       "<div>\n",
       "<style scoped>\n",
       "    .dataframe tbody tr th:only-of-type {\n",
       "        vertical-align: middle;\n",
       "    }\n",
       "\n",
       "    .dataframe tbody tr th {\n",
       "        vertical-align: top;\n",
       "    }\n",
       "\n",
       "    .dataframe thead th {\n",
       "        text-align: right;\n",
       "    }\n",
       "</style>\n",
       "<table border=\"1\" class=\"dataframe\">\n",
       "  <thead>\n",
       "    <tr style=\"text-align: right;\">\n",
       "      <th></th>\n",
       "      <th>id</th>\n",
       "      <th>title</th>\n",
       "      <th>excerpt</th>\n",
       "      <th>username</th>\n",
       "      <th>upvotes</th>\n",
       "      <th>views</th>\n",
       "      <th>answers</th>\n",
       "    </tr>\n",
       "  </thead>\n",
       "  <tbody>\n",
       "    <tr>\n",
       "      <th>0</th>\n",
       "      <td>73362668</td>\n",
       "      <td>Slice multidimensional array</td>\n",
       "      <td>\\r\\n                I have an array (images_ls...</td>\n",
       "      <td>vashista</td>\n",
       "      <td>0</td>\n",
       "      <td>4</td>\n",
       "      <td>0</td>\n",
       "    </tr>\n",
       "    <tr>\n",
       "      <th>1</th>\n",
       "      <td>73362667</td>\n",
       "      <td>E11000 duplicate key error collection when create</td>\n",
       "      <td>\\r\\n                I'm developing a chat syst...</td>\n",
       "      <td>user4554890</td>\n",
       "      <td>0</td>\n",
       "      <td>3</td>\n",
       "      <td>0</td>\n",
       "    </tr>\n",
       "    <tr>\n",
       "      <th>2</th>\n",
       "      <td>73362666</td>\n",
       "      <td>Print all possible combination of words of len...</td>\n",
       "      <td>\\r\\n                I have a list of 5 letters...</td>\n",
       "      <td>Anand_is_goat</td>\n",
       "      <td>0</td>\n",
       "      <td>3</td>\n",
       "      <td>0</td>\n",
       "    </tr>\n",
       "    <tr>\n",
       "      <th>3</th>\n",
       "      <td>73362665</td>\n",
       "      <td>I want to use the datetimepicker, but how do I...</td>\n",
       "      <td>\\r\\n                &lt;DateTimePicker\\n         ...</td>\n",
       "      <td>김도헌</td>\n",
       "      <td>0</td>\n",
       "      <td>2</td>\n",
       "      <td>0</td>\n",
       "    </tr>\n",
       "    <tr>\n",
       "      <th>4</th>\n",
       "      <td>73362664</td>\n",
       "      <td>How to get the count of repeated values in Pow...</td>\n",
       "      <td>\\r\\n                Consider this is an Excel ...</td>\n",
       "      <td>LakshmanPillai</td>\n",
       "      <td>0</td>\n",
       "      <td>3</td>\n",
       "      <td>0</td>\n",
       "    </tr>\n",
       "  </tbody>\n",
       "</table>\n",
       "</div>"
      ],
      "text/plain": [
       "         id                                              title  \\\n",
       "0  73362668                       Slice multidimensional array   \n",
       "1  73362667  E11000 duplicate key error collection when create   \n",
       "2  73362666  Print all possible combination of words of len...   \n",
       "3  73362665  I want to use the datetimepicker, but how do I...   \n",
       "4  73362664  How to get the count of repeated values in Pow...   \n",
       "\n",
       "                                             excerpt        username upvotes  \\\n",
       "0  \\r\\n                I have an array (images_ls...        vashista       0   \n",
       "1  \\r\\n                I'm developing a chat syst...     user4554890       0   \n",
       "2  \\r\\n                I have a list of 5 letters...   Anand_is_goat       0   \n",
       "3  \\r\\n                <DateTimePicker\\n         ...             김도헌       0   \n",
       "4  \\r\\n                Consider this is an Excel ...  LakshmanPillai       0   \n",
       "\n",
       "  views answers  \n",
       "0     4       0  \n",
       "1     3       0  \n",
       "2     3       0  \n",
       "3     2       0  \n",
       "4     3       0  "
      ]
     },
     "execution_count": 18,
     "metadata": {},
     "output_type": "execute_result"
    }
   ],
   "source": [
    "questions_info_df.head()"
   ]
  },
  {
   "cell_type": "code",
   "execution_count": 19,
   "metadata": {},
   "outputs": [
    {
     "data": {
      "text/html": [
       "<div>\n",
       "<style scoped>\n",
       "    .dataframe tbody tr th:only-of-type {\n",
       "        vertical-align: middle;\n",
       "    }\n",
       "\n",
       "    .dataframe tbody tr th {\n",
       "        vertical-align: top;\n",
       "    }\n",
       "\n",
       "    .dataframe thead th {\n",
       "        text-align: right;\n",
       "    }\n",
       "</style>\n",
       "<table border=\"1\" class=\"dataframe\">\n",
       "  <thead>\n",
       "    <tr style=\"text-align: right;\">\n",
       "      <th></th>\n",
       "      <th>id</th>\n",
       "      <th>meta_tag</th>\n",
       "    </tr>\n",
       "  </thead>\n",
       "  <tbody>\n",
       "    <tr>\n",
       "      <th>0</th>\n",
       "      <td>73362668</td>\n",
       "      <td>python</td>\n",
       "    </tr>\n",
       "    <tr>\n",
       "      <th>1</th>\n",
       "      <td>73362668</td>\n",
       "      <td>loops</td>\n",
       "    </tr>\n",
       "    <tr>\n",
       "      <th>2</th>\n",
       "      <td>73362668</td>\n",
       "      <td>multidimensional-array</td>\n",
       "    </tr>\n",
       "    <tr>\n",
       "      <th>3</th>\n",
       "      <td>73362668</td>\n",
       "      <td>slice</td>\n",
       "    </tr>\n",
       "    <tr>\n",
       "      <th>4</th>\n",
       "      <td>73362667</td>\n",
       "      <td>typescript</td>\n",
       "    </tr>\n",
       "    <tr>\n",
       "      <th>5</th>\n",
       "      <td>73362667</td>\n",
       "      <td>mongodb</td>\n",
       "    </tr>\n",
       "    <tr>\n",
       "      <th>6</th>\n",
       "      <td>73362667</td>\n",
       "      <td>mongoose</td>\n",
       "    </tr>\n",
       "    <tr>\n",
       "      <th>7</th>\n",
       "      <td>73362666</td>\n",
       "      <td>python</td>\n",
       "    </tr>\n",
       "    <tr>\n",
       "      <th>8</th>\n",
       "      <td>73362666</td>\n",
       "      <td>python-3.x</td>\n",
       "    </tr>\n",
       "    <tr>\n",
       "      <th>9</th>\n",
       "      <td>73362666</td>\n",
       "      <td>string</td>\n",
       "    </tr>\n",
       "  </tbody>\n",
       "</table>\n",
       "</div>"
      ],
      "text/plain": [
       "         id                meta_tag\n",
       "0  73362668                  python\n",
       "1  73362668                   loops\n",
       "2  73362668  multidimensional-array\n",
       "3  73362668                   slice\n",
       "4  73362667              typescript\n",
       "5  73362667                 mongodb\n",
       "6  73362667                mongoose\n",
       "7  73362666                  python\n",
       "8  73362666              python-3.x\n",
       "9  73362666                  string"
      ]
     },
     "execution_count": 19,
     "metadata": {},
     "output_type": "execute_result"
    }
   ],
   "source": [
    "meta_tags_df.head(10)"
   ]
  },
  {
   "cell_type": "markdown",
   "metadata": {},
   "source": [
    "## Putting It All Together"
   ]
  },
  {
   "cell_type": "code",
   "execution_count": 20,
   "metadata": {},
   "outputs": [],
   "source": [
    "def crawl_stackoverflow(pagenumber):\n",
    "    html = requests.get(f'https://stackoverflow.com/questions?tab=newest&pagesize=50&page={pagenumber}')\n",
    "    soup = BeautifulSoup(html.text)\n",
    "    # ---- Titles ---- #\n",
    "    all_question_title_elements = soup.select('.s-post-summary--content-title > a')\n",
    "    all_question_titles = [element.text for element in all_question_title_elements]\n",
    "\n",
    "    # ---- Excerpts ---- #\n",
    "    all_question_excerpt_elements = soup.find_all('div', 's-post-summary--content-excerpt')\n",
    "    all_question_excerpts = [element.text for element in all_question_excerpt_elements]\n",
    "\n",
    "    # ---- Usernames ---- #\n",
    "    all_question_username_elements = soup.select('.s-user-card--info > .s-user-card--link > a')\n",
    "    all_question_usernames = [element.text for element in all_question_username_elements]\n",
    "\n",
    "    # ---- Question IDs ---- #\n",
    "    id_elements = soup.select('.s-post-summary--content > .s-post-summary--content-title > a')\n",
    "    all_question_ids = [element['href'].split('/')[2] for element in id_elements]\n",
    "\n",
    "    # ---- Question Stats ---- #\n",
    "    stats_element = soup.select('.s-post-summary--stats')\n",
    "    questions_upvotes = []\n",
    "    questions_answers = []\n",
    "    questions_views = []\n",
    "    for el in stats_element:\n",
    "        children = list(el.findChildren('div'))\n",
    "        questions_upvotes.append(\n",
    "            children[0].find('span').text\n",
    "        )\n",
    "        questions_answers.append(\n",
    "            children[1].find('span').text\n",
    "        )\n",
    "        questions_views.append(\n",
    "            children[2].find('span').text\n",
    "        )\n",
    "\n",
    "    # ---- Question Meta Tags ---- #\n",
    "    meta_tags_container = soup.find_all('div', 's-post-summary--meta-tags')\n",
    "    all_question_meta_tags = []\n",
    "    for question_tag_container in meta_tags_container:\n",
    "        temp = []\n",
    "        for child in question_tag_container.findChildren('a'):\n",
    "            temp.append(child.text)\n",
    "        all_question_meta_tags.append(temp)\n",
    "\n",
    "\n",
    "    # ---- Creating Dataframes ---- #\n",
    "    questions_info_df = pd.DataFrame({\n",
    "        'id': all_question_ids,\n",
    "        'title': all_question_titles,\n",
    "        'excerpt': all_question_excerpts,\n",
    "        'username': all_question_usernames,\n",
    "        'upvotes': questions_upvotes,\n",
    "        'views': questions_views,\n",
    "        'answers': questions_answers,\n",
    "    })\n",
    "\n",
    "    question_ids_multiplied = list(chain(\n",
    "        *[[id]*len(meta_tags) for id, meta_tags in zip(all_question_ids, all_question_meta_tags)]\n",
    "    ))      # Don't freak out!!! It's easy!!\n",
    "\n",
    "    meta_tags_df = pd.DataFrame({\n",
    "        'id': question_ids_multiplied,\n",
    "        'meta_tag': list(chain(*all_question_meta_tags))\n",
    "    })\n",
    "\n",
    "    return questions_info_df, meta_tags_df\n",
    "    "
   ]
  },
  {
   "cell_type": "code",
   "execution_count": 21,
   "metadata": {},
   "outputs": [
    {
     "name": "stderr",
     "output_type": "stream",
     "text": [
      "100%|████████████████████████████████████████████████████████████████████████████████| 100/100 [01:49<00:00,  1.09s/it]\n"
     ]
    }
   ],
   "source": [
    "from tqdm import tqdm\n",
    "\n",
    "n_pages = 100\n",
    "question_info_df = []\n",
    "meta_tags_df = []\n",
    "\n",
    "for p in tqdm(range(1, n_pages+1)):\n",
    "    q_df, mt_df = crawl_stackoverflow(p)\n",
    "    question_info_df.append(q_df.copy())        # duplicated dataframes!!!\n",
    "    meta_tags_df.append(mt_df.copy())\n",
    "    # print(q_df.loc[:10, 'id'])\n",
    "question_info_df = pd.concat(question_info_df)\n",
    "meta_tags_df = pd.concat(meta_tags_df)"
   ]
  },
  {
   "cell_type": "code",
   "execution_count": 22,
   "metadata": {},
   "outputs": [
    {
     "name": "stdout",
     "output_type": "stream",
     "text": [
      "(5000, 7)\n"
     ]
    },
    {
     "data": {
      "text/html": [
       "<div>\n",
       "<style scoped>\n",
       "    .dataframe tbody tr th:only-of-type {\n",
       "        vertical-align: middle;\n",
       "    }\n",
       "\n",
       "    .dataframe tbody tr th {\n",
       "        vertical-align: top;\n",
       "    }\n",
       "\n",
       "    .dataframe thead th {\n",
       "        text-align: right;\n",
       "    }\n",
       "</style>\n",
       "<table border=\"1\" class=\"dataframe\">\n",
       "  <thead>\n",
       "    <tr style=\"text-align: right;\">\n",
       "      <th></th>\n",
       "      <th>id</th>\n",
       "      <th>title</th>\n",
       "      <th>excerpt</th>\n",
       "      <th>username</th>\n",
       "      <th>upvotes</th>\n",
       "      <th>views</th>\n",
       "      <th>answers</th>\n",
       "    </tr>\n",
       "  </thead>\n",
       "  <tbody>\n",
       "    <tr>\n",
       "      <th>0</th>\n",
       "      <td>73362668</td>\n",
       "      <td>Slice multidimensional array</td>\n",
       "      <td>\\r\\n                I have an array (images_ls...</td>\n",
       "      <td>vashista</td>\n",
       "      <td>0</td>\n",
       "      <td>4</td>\n",
       "      <td>0</td>\n",
       "    </tr>\n",
       "    <tr>\n",
       "      <th>1</th>\n",
       "      <td>73362667</td>\n",
       "      <td>E11000 duplicate key error collection when create</td>\n",
       "      <td>\\r\\n                I'm developing a chat syst...</td>\n",
       "      <td>user4554890</td>\n",
       "      <td>0</td>\n",
       "      <td>3</td>\n",
       "      <td>0</td>\n",
       "    </tr>\n",
       "    <tr>\n",
       "      <th>2</th>\n",
       "      <td>73362666</td>\n",
       "      <td>Print all possible combination of words of len...</td>\n",
       "      <td>\\r\\n                I have a list of 5 letters...</td>\n",
       "      <td>Anand_is_goat</td>\n",
       "      <td>0</td>\n",
       "      <td>3</td>\n",
       "      <td>0</td>\n",
       "    </tr>\n",
       "    <tr>\n",
       "      <th>3</th>\n",
       "      <td>73362665</td>\n",
       "      <td>I want to use the datetimepicker, but how do I...</td>\n",
       "      <td>\\r\\n                &lt;DateTimePicker\\n         ...</td>\n",
       "      <td>김도헌</td>\n",
       "      <td>0</td>\n",
       "      <td>2</td>\n",
       "      <td>0</td>\n",
       "    </tr>\n",
       "    <tr>\n",
       "      <th>4</th>\n",
       "      <td>73362664</td>\n",
       "      <td>How to get the count of repeated values in Pow...</td>\n",
       "      <td>\\r\\n                Consider this is an Excel ...</td>\n",
       "      <td>LakshmanPillai</td>\n",
       "      <td>0</td>\n",
       "      <td>3</td>\n",
       "      <td>0</td>\n",
       "    </tr>\n",
       "  </tbody>\n",
       "</table>\n",
       "</div>"
      ],
      "text/plain": [
       "         id                                              title  \\\n",
       "0  73362668                       Slice multidimensional array   \n",
       "1  73362667  E11000 duplicate key error collection when create   \n",
       "2  73362666  Print all possible combination of words of len...   \n",
       "3  73362665  I want to use the datetimepicker, but how do I...   \n",
       "4  73362664  How to get the count of repeated values in Pow...   \n",
       "\n",
       "                                             excerpt        username upvotes  \\\n",
       "0  \\r\\n                I have an array (images_ls...        vashista       0   \n",
       "1  \\r\\n                I'm developing a chat syst...     user4554890       0   \n",
       "2  \\r\\n                I have a list of 5 letters...   Anand_is_goat       0   \n",
       "3  \\r\\n                <DateTimePicker\\n         ...             김도헌       0   \n",
       "4  \\r\\n                Consider this is an Excel ...  LakshmanPillai       0   \n",
       "\n",
       "  views answers  \n",
       "0     4       0  \n",
       "1     3       0  \n",
       "2     3       0  \n",
       "3     2       0  \n",
       "4     3       0  "
      ]
     },
     "execution_count": 22,
     "metadata": {},
     "output_type": "execute_result"
    }
   ],
   "source": [
    "print(question_info_df.shape)\n",
    "question_info_df.head()"
   ]
  },
  {
   "cell_type": "code",
   "execution_count": 23,
   "metadata": {},
   "outputs": [
    {
     "name": "stdout",
     "output_type": "stream",
     "text": [
      "(15195, 2)\n"
     ]
    },
    {
     "data": {
      "text/html": [
       "<div>\n",
       "<style scoped>\n",
       "    .dataframe tbody tr th:only-of-type {\n",
       "        vertical-align: middle;\n",
       "    }\n",
       "\n",
       "    .dataframe tbody tr th {\n",
       "        vertical-align: top;\n",
       "    }\n",
       "\n",
       "    .dataframe thead th {\n",
       "        text-align: right;\n",
       "    }\n",
       "</style>\n",
       "<table border=\"1\" class=\"dataframe\">\n",
       "  <thead>\n",
       "    <tr style=\"text-align: right;\">\n",
       "      <th></th>\n",
       "      <th>id</th>\n",
       "      <th>meta_tag</th>\n",
       "    </tr>\n",
       "  </thead>\n",
       "  <tbody>\n",
       "    <tr>\n",
       "      <th>0</th>\n",
       "      <td>73362668</td>\n",
       "      <td>python</td>\n",
       "    </tr>\n",
       "    <tr>\n",
       "      <th>1</th>\n",
       "      <td>73362668</td>\n",
       "      <td>loops</td>\n",
       "    </tr>\n",
       "    <tr>\n",
       "      <th>2</th>\n",
       "      <td>73362668</td>\n",
       "      <td>multidimensional-array</td>\n",
       "    </tr>\n",
       "    <tr>\n",
       "      <th>3</th>\n",
       "      <td>73362668</td>\n",
       "      <td>slice</td>\n",
       "    </tr>\n",
       "    <tr>\n",
       "      <th>4</th>\n",
       "      <td>73362667</td>\n",
       "      <td>typescript</td>\n",
       "    </tr>\n",
       "  </tbody>\n",
       "</table>\n",
       "</div>"
      ],
      "text/plain": [
       "         id                meta_tag\n",
       "0  73362668                  python\n",
       "1  73362668                   loops\n",
       "2  73362668  multidimensional-array\n",
       "3  73362668                   slice\n",
       "4  73362667              typescript"
      ]
     },
     "execution_count": 23,
     "metadata": {},
     "output_type": "execute_result"
    }
   ],
   "source": [
    "print(meta_tags_df.shape)\n",
    "meta_tags_df.head()"
   ]
  },
  {
   "cell_type": "code",
   "execution_count": 24,
   "metadata": {},
   "outputs": [
    {
     "name": "stdout",
     "output_type": "stream",
     "text": [
      "50\n",
      "153\n"
     ]
    }
   ],
   "source": [
    "print(question_info_df.duplicated().sum())\n",
    "print(meta_tags_df.duplicated().sum())"
   ]
  },
  {
   "cell_type": "code",
   "execution_count": 25,
   "metadata": {},
   "outputs": [],
   "source": [
    "question_info_df = question_info_df.drop_duplicates()\n",
    "meta_tags_df = meta_tags_df.drop_duplicates()"
   ]
  },
  {
   "cell_type": "code",
   "execution_count": 26,
   "metadata": {},
   "outputs": [
    {
     "name": "stdout",
     "output_type": "stream",
     "text": [
      "\r\n",
      "                I have an array (images_lst) having shape (250,500,500), it is basically a list of 250 images having dimensions 500X500. How do I select only the first dimension of the array to use it in a loop given ...\r\n",
      "            \n"
     ]
    }
   ],
   "source": [
    "print(question_info_df.excerpt.values[0])\n",
    "question_info_df.excerpt = question_info_df.excerpt.replace(r'^\\r\\n\\s+', '', regex=True) \\\n",
    "                                                   .replace(r'\\r\\n\\s+$', '', regex=True)"
   ]
  },
  {
   "cell_type": "code",
   "execution_count": 27,
   "metadata": {},
   "outputs": [
    {
     "data": {
      "text/plain": [
       "id          object\n",
       "title       object\n",
       "excerpt     object\n",
       "username    object\n",
       "upvotes     object\n",
       "views       object\n",
       "answers     object\n",
       "dtype: object"
      ]
     },
     "execution_count": 27,
     "metadata": {},
     "output_type": "execute_result"
    }
   ],
   "source": [
    "question_info_df.dtypes     # <-- we need to do some cleaning"
   ]
  },
  {
   "cell_type": "code",
   "execution_count": 28,
   "metadata": {},
   "outputs": [
    {
     "data": {
      "text/plain": [
       "id          object\n",
       "title       object\n",
       "excerpt     object\n",
       "username    object\n",
       "upvotes      int32\n",
       "views        int32\n",
       "answers      int32\n",
       "dtype: object"
      ]
     },
     "execution_count": 28,
     "metadata": {},
     "output_type": "execute_result"
    }
   ],
   "source": [
    "question_info_df[['upvotes', 'views', 'answers']] = question_info_df[['upvotes', 'views', 'answers']].astype('int')\n",
    "question_info_df.dtypes"
   ]
  },
  {
   "cell_type": "code",
   "execution_count": 29,
   "metadata": {},
   "outputs": [],
   "source": [
    "question_info_df = question_info_df.set_index('id')\n",
    "meta_tags_df = meta_tags_df.set_index('id')"
   ]
  },
  {
   "cell_type": "code",
   "execution_count": 30,
   "metadata": {},
   "outputs": [],
   "source": [
    "question_info_df.to_csv('question_info.csv')\n",
    "meta_tags_df.to_csv('meta_tags.csv')"
   ]
  },
  {
   "cell_type": "markdown",
   "metadata": {},
   "source": [
    "## Some Data Analysis"
   ]
  },
  {
   "cell_type": "code",
   "execution_count": 31,
   "metadata": {},
   "outputs": [
    {
     "data": {
      "text/plain": [
       "meta_tag  \n",
       "python        813\n",
       "javascript    573\n",
       "reactjs       317\n",
       "java          260\n",
       "c#            234\n",
       "html          207\n",
       "android       194\n",
       "node.js       168\n",
       "flutter       157\n",
       "              154\n",
       "dtype: int64"
      ]
     },
     "execution_count": 31,
     "metadata": {},
     "output_type": "execute_result"
    }
   ],
   "source": [
    "popular_tags = meta_tags_df.value_counts().sort_values()[::-1]\n",
    "popular_tags[:10]"
   ]
  },
  {
   "cell_type": "code",
   "execution_count": null,
   "metadata": {},
   "outputs": [],
   "source": []
  },
  {
   "cell_type": "code",
   "execution_count": null,
   "metadata": {},
   "outputs": [],
   "source": []
  }
 ],
 "metadata": {
  "kernelspec": {
   "display_name": "Python 3",
   "language": "python",
   "name": "python3"
  },
  "language_info": {
   "codemirror_mode": {
    "name": "ipython",
    "version": 3
   },
   "file_extension": ".py",
   "mimetype": "text/x-python",
   "name": "python",
   "nbconvert_exporter": "python",
   "pygments_lexer": "ipython3",
   "version": "3.8.8"
  },
  "vscode": {
   "interpreter": {
    "hash": "25aba1949f44877099d449300e326e4451e69b41f5f01d7de2dc51cdf7c75fa4"
   }
  }
 },
 "nbformat": 4,
 "nbformat_minor": 2
}
